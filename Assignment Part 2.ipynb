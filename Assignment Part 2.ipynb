{
 "cells": [
  {
   "cell_type": "markdown",
   "metadata": {},
   "source": [
    "# VELMA-ARC Rehabilitation Bootcamp 2.0\n",
    "\n",
    "<a href=\"'https://classroom.google.com/c/NTA1NjA0MTMwNzQ1?cjc=4u6on64'\">Join the google classroom using this link</a>\n",
    "* Assigments will be shared in the class room and should be submitted. \n",
    "*Question and answers can be posted in the online class"
   ]
  },
  {
   "cell_type": "markdown",
   "metadata": {},
   "source": [
    "### Python Data and Progamm Structures\n",
    "### Assignment Part 2"
   ]
  },
  {
   "cell_type": "markdown",
   "metadata": {},
   "source": [
    "##### Exercise 1\n",
    "You want to write a program that calculates the area of a sphere but you want your program to be general purpose where a user can enter the radius of any sphere and it calculates the area.\n",
    "* write a program that request input (radius of sphere) from a user and calclates the area \n",
    "> **Note** The area of a sphere is given as 4/3*pi*r^2 \\\n",
    "> `pi = 3.142`"
   ]
  },
  {
   "cell_type": "code",
   "execution_count": 1,
   "metadata": {},
   "outputs": [],
   "source": [
    "# request radius from user\n",
    "\n",
    "radius = input('enter number')"
   ]
  },
  {
   "cell_type": "code",
   "execution_count": 2,
   "metadata": {},
   "outputs": [],
   "source": [
    "# do not touch this code\n",
    "radius = float(radius)"
   ]
  },
  {
   "cell_type": "code",
   "execution_count": 3,
   "metadata": {},
   "outputs": [],
   "source": [
    "#assign the value of pi\n",
    "\n",
    "pi = 3.142\n",
    "\n",
    "area = (4/3) * pi * radius**2"
   ]
  },
  {
   "cell_type": "code",
   "execution_count": 5,
   "metadata": {},
   "outputs": [
    {
     "name": "stdout",
     "output_type": "stream",
     "text": [
      "603.2639999999999\n"
     ]
    }
   ],
   "source": [
    "# print the value of area\n",
    "\n",
    "print (area)"
   ]
  },
  {
   "cell_type": "code",
   "execution_count": null,
   "metadata": {},
   "outputs": [],
   "source": []
  },
  {
   "cell_type": "markdown",
   "metadata": {},
   "source": [
    "### Exercise 2\n",
    "#### Data Structures\n"
   ]
  },
  {
   "cell_type": "code",
   "execution_count": 8,
   "metadata": {},
   "outputs": [],
   "source": [
    "scores = [50, 76, 47, 80, 64]"
   ]
  },
  {
   "cell_type": "code",
   "execution_count": 9,
   "metadata": {},
   "outputs": [
    {
     "name": "stdout",
     "output_type": "stream",
     "text": [
      "80\n"
     ]
    }
   ],
   "source": [
    "# print the score at index 3. is it what you expect? \n",
    "\n",
    "print (scores[3])"
   ]
  },
  {
   "cell_type": "code",
   "execution_count": 11,
   "metadata": {},
   "outputs": [
    {
     "name": "stdout",
     "output_type": "stream",
     "text": [
      "[50, 76, 47]\n"
     ]
    }
   ],
   "source": [
    "# print from the first 3 scores\n",
    "\n",
    "print (scores[:3])"
   ]
  },
  {
   "cell_type": "code",
   "execution_count": 13,
   "metadata": {},
   "outputs": [
    {
     "name": "stdout",
     "output_type": "stream",
     "text": [
      "['rice', 'beans', 'yam', 'spaghetti']\n"
     ]
    }
   ],
   "source": [
    "# create a list of food items of your choice\n",
    "food_items = ['rice', 'beans', 'yam', 'spaghetti']\n",
    "\n",
    "print (food_items)"
   ]
  },
  {
   "cell_type": "markdown",
   "metadata": {},
   "source": [
    "Consider a list of rooms sizes (area). `room_size = [40, 28, 24, 23, 15, 10, 6]` corresponding to rooms `rooms = [living, bedroom1, bedroom2, bedroom3, kitchen, bathroom, store]`.\n",
    "* create the following list accordingly"
   ]
  },
  {
   "cell_type": "code",
   "execution_count": 14,
   "metadata": {},
   "outputs": [],
   "source": [
    "# your code here\n",
    "rooms_size = [40, 28, 24, 23, 15, 10, 6]\n",
    "\n",
    "rooms = ['living','bedroom1','bedroom2', 'bedroom3', 'kitchen', 'bathroom', 'store']\n",
    "\n",
    "# do not touch this code\n",
    "assert len(rooms) == len(rooms_size)"
   ]
  },
  {
   "cell_type": "markdown",
   "metadata": {},
   "source": [
    "* You realize you need to add the size of hallway. append the size `5` to the list `room_sizes`, and the name `\"hallway\"` to the list `rooms`\n",
    "> hint: append()"
   ]
  },
  {
   "cell_type": "code",
   "execution_count": 15,
   "metadata": {},
   "outputs": [],
   "source": [
    "# add 5 to the list rooms\n",
    "\n",
    "rooms_size.append(5)\n",
    "rooms.append('hallway')"
   ]
  },
  {
   "cell_type": "markdown",
   "metadata": {},
   "source": [
    "* On a second thought you felt don't need more than two bedrooms so you decide you need to remove bedroom3. \n",
    "> Remove bedroom3 from `rooms` and the corresponding size from `room_sizes`\n"
   ]
  },
  {
   "cell_type": "code",
   "execution_count": 16,
   "metadata": {},
   "outputs": [],
   "source": [
    "rooms.remove('bedroom3')\n",
    "rooms_size.remove(23)"
   ]
  },
  {
   "cell_type": "markdown",
   "metadata": {},
   "source": [
    "* After finalizing your thoughts, to avoid alteration in the values by mistake you want to convert the list to tuples. \n",
    ">Convert the list `rooms` and `room_size` to tuple."
   ]
  },
  {
   "cell_type": "code",
   "execution_count": 17,
   "metadata": {},
   "outputs": [],
   "source": [
    "rooms_tuple = tuple(rooms)\n",
    "\n",
    "room_size_tuple = tuple(rooms_size)\n",
    "\n",
    "assert len(rooms_tuple) == len(room_size_tuple)"
   ]
  },
  {
   "cell_type": "markdown",
   "metadata": {},
   "source": [
    "Good Work!"
   ]
  },
  {
   "cell_type": "markdown",
   "metadata": {},
   "source": [
    "#### Exercise 3"
   ]
  },
  {
   "cell_type": "markdown",
   "metadata": {},
   "source": [
    "create a dictionary `rooms_size_dict` from the information above\n",
    "* keys are rooms\n",
    "* values are rooms_sizes"
   ]
  },
  {
   "cell_type": "code",
   "execution_count": 20,
   "metadata": {},
   "outputs": [],
   "source": [
    "rooms_size_dict = dict(zip(rooms, rooms_size))"
   ]
  },
  {
   "cell_type": "markdown",
   "metadata": {},
   "source": [
    "* print all items in the dictionary\n",
    "    >hint : items"
   ]
  },
  {
   "cell_type": "code",
   "execution_count": 22,
   "metadata": {},
   "outputs": [
    {
     "name": "stdout",
     "output_type": "stream",
     "text": [
      "{'living': 40, 'bedroom1': 28, 'bedroom2': 24, 'kitchen': 15, 'bathroom': 10, 'store': 6, 'hallway': 5}\n"
     ]
    }
   ],
   "source": [
    "print (rooms_size_dict)"
   ]
  },
  {
   "cell_type": "code",
   "execution_count": 26,
   "metadata": {},
   "outputs": [
    {
     "name": "stdout",
     "output_type": "stream",
     "text": [
      "40\n"
     ]
    }
   ],
   "source": [
    "print (rooms_size[0])"
   ]
  },
  {
   "cell_type": "code",
   "execution_count": 29,
   "metadata": {},
   "outputs": [
    {
     "data": {
      "text/plain": [
       "128"
      ]
     },
     "execution_count": 29,
     "metadata": {},
     "output_type": "execute_result"
    }
   ],
   "source": [
    "# what do you think will be the total area of the house\n",
    "# hint: sum all room sizes\n",
    "sum (rooms_size) #(40, 28, 24, 15, 10, 6, 5)\n"
   ]
  },
  {
   "cell_type": "markdown",
   "metadata": {},
   "source": [
    "#### Exercise 4"
   ]
  },
  {
   "cell_type": "markdown",
   "metadata": {},
   "source": [
    "In a world puzzle you are given a sequence of letters all mixed and unorganized. \n",
    "* 1. Your task is to write a program that check if a given word is found in the sequence of letter\n",
    "* 2. find the location (index) where the word can be found"
   ]
  },
  {
   "cell_type": "code",
   "execution_count": 32,
   "metadata": {},
   "outputs": [],
   "source": [
    "sequence = \"hihsobookn shfdhhihgunsheggjdurgoatjshcow jgjfifbeansjhguiugigoaljgiguhgisjcathhfujgiaman\""
   ]
  },
  {
   "cell_type": "code",
   "execution_count": 35,
   "metadata": {},
   "outputs": [
    {
     "data": {
      "text/plain": [
       "86"
      ]
     },
     "execution_count": 35,
     "metadata": {},
     "output_type": "execute_result"
    }
   ],
   "source": [
    "sequence.find('man')"
   ]
  },
  {
   "cell_type": "markdown",
   "metadata": {},
   "source": [
    "* Using string formating, print the sentence 'My name is {name} I am {age} years old'"
   ]
  },
  {
   "cell_type": "code",
   "execution_count": 42,
   "metadata": {},
   "outputs": [
    {
     "name": "stdout",
     "output_type": "stream",
     "text": [
      "My name is Muhammad I am 12 years old\n"
     ]
    }
   ],
   "source": [
    "name = 'Muhammad'\n",
    "age = 12\n",
    "print('My name is ' +name + ' I am ' +str(age)+ ' years old')"
   ]
  },
  {
   "cell_type": "markdown",
   "metadata": {},
   "source": [
    "* You are giving the following email address. Split it into user and domain name"
   ]
  },
  {
   "cell_type": "code",
   "execution_count": 44,
   "metadata": {},
   "outputs": [],
   "source": [
    "email = 'someuser@somedomain.com'"
   ]
  },
  {
   "cell_type": "code",
   "execution_count": 49,
   "metadata": {},
   "outputs": [
    {
     "data": {
      "text/plain": [
       "['someuser', 'somedomain.com']"
      ]
     },
     "execution_count": 49,
     "metadata": {},
     "output_type": "execute_result"
    }
   ],
   "source": [
    "email.split('@')\n"
   ]
  },
  {
   "cell_type": "markdown",
   "metadata": {},
   "source": [
    "### Exercisie 5\n",
    "Given the following list print out the world 'hello'"
   ]
  },
  {
   "cell_type": "code",
   "execution_count": 50,
   "metadata": {},
   "outputs": [
    {
     "name": "stdout",
     "output_type": "stream",
     "text": [
      "hello\n"
     ]
    }
   ],
   "source": [
    "my_list = [45, 67, 7.8, 'hello', 'day']\n",
    "print (my_list[3])"
   ]
  },
  {
   "cell_type": "markdown",
   "metadata": {},
   "source": [
    "You have a list of scores given as follows. find the following\n",
    "* The sum of all scores\n",
    "* Mean (average) of all scores\n",
    "* Maximum Score\n",
    "* Minimum Score\n",
    "* Sorted score (sort the list)"
   ]
  },
  {
   "cell_type": "code",
   "execution_count": 60,
   "metadata": {},
   "outputs": [],
   "source": [
    "scores = [80, 50, 49, 76, 51, 90, 43, 62, 78, 45, 32]\n",
    "avg=sum(scores)\n"
   ]
  },
  {
   "cell_type": "code",
   "execution_count": 61,
   "metadata": {},
   "outputs": [],
   "source": [
    "length=len(scores)"
   ]
  },
  {
   "cell_type": "code",
   "execution_count": 62,
   "metadata": {},
   "outputs": [],
   "source": [
    "nscores=avg/length"
   ]
  },
  {
   "cell_type": "code",
   "execution_count": 63,
   "metadata": {},
   "outputs": [
    {
     "name": "stdout",
     "output_type": "stream",
     "text": [
      "59.63636363636363\n"
     ]
    }
   ],
   "source": [
    "print(nscores)"
   ]
  },
  {
   "cell_type": "code",
   "execution_count": 64,
   "metadata": {},
   "outputs": [
    {
     "data": {
      "text/plain": [
       "656"
      ]
     },
     "execution_count": 64,
     "metadata": {},
     "output_type": "execute_result"
    }
   ],
   "source": [
    "sum(scores)"
   ]
  },
  {
   "cell_type": "code",
   "execution_count": 67,
   "metadata": {},
   "outputs": [
    {
     "data": {
      "text/plain": [
       "90"
      ]
     },
     "execution_count": 67,
     "metadata": {},
     "output_type": "execute_result"
    }
   ],
   "source": [
    "max(scores)"
   ]
  },
  {
   "cell_type": "code",
   "execution_count": 68,
   "metadata": {},
   "outputs": [
    {
     "data": {
      "text/plain": [
       "32"
      ]
     },
     "execution_count": 68,
     "metadata": {},
     "output_type": "execute_result"
    }
   ],
   "source": [
    "min(scores)"
   ]
  },
  {
   "cell_type": "code",
   "execution_count": 72,
   "metadata": {},
   "outputs": [],
   "source": [
    "scores.sort()"
   ]
  },
  {
   "cell_type": "code",
   "execution_count": 73,
   "metadata": {},
   "outputs": [
    {
     "name": "stdout",
     "output_type": "stream",
     "text": [
      "[32, 43, 45, 49, 50, 51, 62, 76, 78, 80, 90]\n"
     ]
    }
   ],
   "source": [
    "print(scores)"
   ]
  },
  {
   "cell_type": "markdown",
   "metadata": {},
   "source": [
    "Given the list of items\n",
    "* add 'pen' to the end of the list\n",
    "* remove 'biro' from the list"
   ]
  },
  {
   "cell_type": "code",
   "execution_count": null,
   "metadata": {},
   "outputs": [],
   "source": []
  },
  {
   "cell_type": "code",
   "execution_count": 75,
   "metadata": {},
   "outputs": [],
   "source": [
    "items = ['book','biro','pencil','bag','belt','cap','shirt']"
   ]
  },
  {
   "cell_type": "code",
   "execution_count": 77,
   "metadata": {},
   "outputs": [],
   "source": [
    "items.remove('biro')"
   ]
  },
  {
   "cell_type": "code",
   "execution_count": 78,
   "metadata": {},
   "outputs": [],
   "source": [
    "items.append('pen')"
   ]
  },
  {
   "cell_type": "code",
   "execution_count": 79,
   "metadata": {},
   "outputs": [
    {
     "name": "stdout",
     "output_type": "stream",
     "text": [
      "['book', 'pencil', 'bag', 'belt', 'cap', 'shirt', 'pen']\n"
     ]
    }
   ],
   "source": [
    "print(items)"
   ]
  },
  {
   "cell_type": "markdown",
   "metadata": {},
   "source": [
    "### Program Structure"
   ]
  },
  {
   "cell_type": "markdown",
   "metadata": {},
   "source": [
    "Using a while loop print all even numbers between 10 and 50 \\\n",
    "complete the below code to print even number between 10 and 50"
   ]
  },
  {
   "cell_type": "code",
   "execution_count": 5,
   "metadata": {},
   "outputs": [
    {
     "name": "stdout",
     "output_type": "stream",
     "text": [
      "2\n",
      "4\n",
      "6\n",
      "8\n",
      "10\n",
      "12\n",
      "14\n",
      "16\n",
      "18\n",
      "20\n",
      "22\n",
      "24\n",
      "26\n",
      "28\n",
      "30\n",
      "32\n",
      "34\n",
      "36\n",
      "38\n",
      "40\n",
      "42\n",
      "44\n",
      "46\n",
      "48\n",
      "50\n"
     ]
    }
   ],
   "source": [
    "i = 2# complete the initiation of i with the start value\n",
    "\n",
    "while i <= 50:\n",
    "    if i%2 ==0: # complete the if condition for checking even number      # complete: what should happen in the loop if i is even number\n",
    "        print(i)\n",
    "    i += 1  # incrementation of i\n",
    "    \n"
   ]
  },
  {
   "cell_type": "code",
   "execution_count": 2,
   "metadata": {},
   "outputs": [
    {
     "name": "stdout",
     "output_type": "stream",
     "text": [
      "2\n"
     ]
    }
   ],
   "source": [
    "print(2)"
   ]
  },
  {
   "cell_type": "markdown",
   "metadata": {},
   "source": [
    "###### Complete the following Code\n",
    "Using for loop and the range function (`range()`) print all numbers between 1 and 20. Along with the number it should also indicate:\n",
    "* if number is even or odd \\\n",
    "e.g output should be like \\\n",
    "`1 : odd number` \\\n",
    "`2 : even number`"
   ]
  },
  {
   "cell_type": "code",
   "execution_count": 6,
   "metadata": {},
   "outputs": [
    {
     "data": {
      "text/plain": [
       "'2: even'"
      ]
     },
     "execution_count": 6,
     "metadata": {},
     "output_type": "execute_result"
    }
   ],
   "source": [
    "'{}: even'.format(2)"
   ]
  },
  {
   "cell_type": "code",
   "execution_count": 7,
   "metadata": {},
   "outputs": [
    {
     "name": "stdout",
     "output_type": "stream",
     "text": [
      "1: odd\n",
      "2: even\n",
      "3: odd\n",
      "4: even\n",
      "5: odd\n",
      "6: even\n",
      "7: odd\n",
      "8: even\n",
      "9: odd\n",
      "10: even\n",
      "11: odd\n",
      "12: even\n",
      "13: odd\n",
      "14: even\n",
      "15: odd\n",
      "16: even\n",
      "17: odd\n",
      "18: even\n",
      "19: odd\n"
     ]
    }
   ],
   "source": [
    "for i in range(1, 20):       # complete with the range function; note that stop is exclusive in the range function\n",
    "    \n",
    "    if i %2 == 0: # complete the condition for checking for even number\n",
    "        \n",
    "        print('{}: even'.format(i)) # complete the formatting to print the value of i\n",
    "    else:\n",
    "        print('{}: odd'.format(i))"
   ]
  },
  {
   "cell_type": "markdown",
   "metadata": {},
   "source": [
    "#### Complete the code\n",
    "Define a function that accepts a list of scores and prints:\n",
    "* The number of scores in the list (length)\n",
    "* The sum of scores\n",
    "* The Mean (average) score\n",
    "* The Maximum score\n",
    "* The Minimum score"
   ]
  },
  {
   "cell_type": "code",
   "execution_count": 18,
   "metadata": {},
   "outputs": [],
   "source": [
    "def summary_stats(scores):\n",
    "    \n",
    "    # calculate statistics\n",
    "    \n",
    "    # sum of scores\n",
    "    sum_scores = sum(scores)\n",
    "    \n",
    "    # total number of scores in list\n",
    "    count = len(scores)\n",
    "    \n",
    "    # average score\n",
    "    mean = sum_scores / count\n",
    "    \n",
    "    # maximum score\n",
    "    max_score = max(scores)\n",
    "    \n",
    "    # minimum score\n",
    "    min_score = min(scores)\n",
    "    \n",
    "    \n",
    "    # display summary statistics \n",
    "    \n",
    "    # print count\n",
    "    print('Total number of scores: {}'.format(count))\n",
    "    \n",
    "    # print sum_scores\n",
    "    print('Total sum of scores: {}'.format(sum_scores))\n",
    "    \n",
    "    # print mean\n",
    "    print('Average Score: {}'.format(mean))\n",
    "    \n",
    "    # print max_score\n",
    "    print('Maximum Score: {}'.format(max_score))\n",
    "    \n",
    "    # min_score\n",
    "    print('Minimum Score: {}'.format(min_score))"
   ]
  },
  {
   "cell_type": "code",
   "execution_count": 13,
   "metadata": {},
   "outputs": [],
   "source": [
    "my_scores = [80, 50, 49, 76, 51, 90, 43, 62, 78, 45, 32]"
   ]
  },
  {
   "cell_type": "code",
   "execution_count": 14,
   "metadata": {},
   "outputs": [
    {
     "name": "stdout",
     "output_type": "stream",
     "text": [
      "[80, 50, 49, 76, 51, 90, 43, 62, 78, 45, 32]\n"
     ]
    }
   ],
   "source": [
    "print(my_scores)"
   ]
  },
  {
   "cell_type": "code",
   "execution_count": 19,
   "metadata": {},
   "outputs": [
    {
     "name": "stdout",
     "output_type": "stream",
     "text": [
      "Total number of scores: 11\n",
      "Total sum of scores: 656\n",
      "Average Score: 59.63636363636363\n",
      "Maximum Score: 90\n",
      "Minimum Score: 32\n"
     ]
    }
   ],
   "source": [
    "# call the funtion and pass my_scores\n",
    "\n",
    "summary_stats(my_scores)"
   ]
  },
  {
   "cell_type": "markdown",
   "metadata": {},
   "source": []
  },
  {
   "cell_type": "markdown",
   "metadata": {},
   "source": [
    "##### Final Problem (Unguided)\n",
    "Define a function that performs the following operation:\n",
    "* It accepts a number a check "
   ]
  },
  {
   "cell_type": "code",
   "execution_count": 21,
   "metadata": {},
   "outputs": [],
   "source": [
    "def check():\n",
    "    name=input('enter your name')\n",
    "    "
   ]
  },
  {
   "cell_type": "code",
   "execution_count": 23,
   "metadata": {},
   "outputs": [],
   "source": [
    "check()"
   ]
  },
  {
   "cell_type": "code",
   "execution_count": null,
   "metadata": {},
   "outputs": [],
   "source": []
  }
 ],
 "metadata": {
  "kernelspec": {
   "display_name": "Python 3",
   "language": "python",
   "name": "python3"
  },
  "language_info": {
   "codemirror_mode": {
    "name": "ipython",
    "version": 3
   },
   "file_extension": ".py",
   "mimetype": "text/x-python",
   "name": "python",
   "nbconvert_exporter": "python",
   "pygments_lexer": "ipython3",
   "version": "3.6.2"
  }
 },
 "nbformat": 4,
 "nbformat_minor": 4
}
